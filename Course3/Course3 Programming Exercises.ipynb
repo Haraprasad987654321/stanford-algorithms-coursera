{
 "cells": [
  {
   "cell_type": "markdown",
   "id": "c1caeba6",
   "metadata": {},
   "source": [
    "# Programming Exercise 1\n",
    "\n",
    "## Part 1\n",
    "\n",
    "In this programming problem and the next you'll code up the greedy algorithms from lecture for minimizing the weighted sum of completion times..\n",
    "\n",
    "Download the text file below.\n",
    "\n",
    "(See C3W1_jobs.txt)\n",
    "\n",
    "This file describes a set of jobs with positive and integral weights and lengths.  It has the format\n",
    "\n",
    "[number_of_jobs]\n",
    "\n",
    "[job_1_weight] [job_1_length]\n",
    "\n",
    "[job_2_weight] [job_2_length]\n",
    "\n",
    "...\n",
    "\n",
    "For example, the third line of the file is \"74 59\", indicating that the second job has weight 74 and length 59.\n",
    "\n",
    "You should NOT assume that edge weights or lengths are distinct.\n",
    "\n",
    "Your task in this problem is to run the greedy algorithm that schedules jobs in decreasing order of the difference (weight - length).  Recall from lecture that this algorithm is not always optimal.  IMPORTANT: if two jobs have equal difference (weight - length), you should schedule the job with higher weight first.  Beware: if you break ties in a different way, you are likely to get the wrong answer.  You should report the sum of weighted completion times of the resulting schedule --- a positive integer --- in the box below. \n",
    "\n",
    "ADVICE: If you get the wrong answer, try out some small test cases to debug your algorithm (and post your test cases to the discussion forum)."
   ]
  },
  {
   "cell_type": "code",
   "execution_count": 1,
   "id": "c6d8e575",
   "metadata": {},
   "outputs": [
    {
     "data": {
      "text/plain": [
       "[['8', '50'],\n",
       " ['74', '59'],\n",
       " ['31', '73'],\n",
       " ['45', '79'],\n",
       " ['24', '10'],\n",
       " ['41', '66'],\n",
       " ['93', '43'],\n",
       " ['88', '4'],\n",
       " ['28', '30'],\n",
       " ['41', '13']]"
      ]
     },
     "execution_count": 1,
     "metadata": {},
     "output_type": "execute_result"
    }
   ],
   "source": [
    "text_file = open(\"C3W1_jobs.txt\", \"r\")\n",
    "lines = text_file.readlines()\n",
    "data1 = [i.strip().split(\" \") for i in lines[1:]]\n",
    "text_file.close()\n",
    "data1[0:10]"
   ]
  },
  {
   "cell_type": "code",
   "execution_count": 2,
   "id": "9bb11d68",
   "metadata": {},
   "outputs": [
    {
     "data": {
      "text/plain": [
       "[[99, 1],\n",
       " [100, 3],\n",
       " [100, 3],\n",
       " [99, 2],\n",
       " [99, 2],\n",
       " [98, 1],\n",
       " [98, 2],\n",
       " [98, 2],\n",
       " [98, 2],\n",
       " [99, 4]]"
      ]
     },
     "execution_count": 2,
     "metadata": {},
     "output_type": "execute_result"
    }
   ],
   "source": [
    "data1sort = sorted(data1,key=lambda x:(int(x[0]) - int(x[1]),int(x[0])),reverse=True)\n",
    "data1sort = [[int(i[0]),int(i[1])] for i in data1sort]\n",
    "data1sort[0:10]"
   ]
  },
  {
   "cell_type": "code",
   "execution_count": 3,
   "id": "8285fe68",
   "metadata": {},
   "outputs": [
    {
     "name": "stdout",
     "output_type": "stream",
     "text": [
      "Part1 result: 69119377652\n"
     ]
    }
   ],
   "source": [
    "res = 0\n",
    "curr_time = 0\n",
    "for i in data1sort:\n",
    "    curr_time += i[1]\n",
    "    res += i[0] * curr_time\n",
    "print(\"Part1 result: \" + str(res))"
   ]
  },
  {
   "cell_type": "markdown",
   "id": "38d93e1c",
   "metadata": {},
   "source": [
    "## Part 2\n",
    "\n",
    "For this problem, use the same data set as in the previous problem.\n",
    "\n",
    "Your task now is to run the greedy algorithm that schedules jobs (optimally) in decreasing order of the ratio (weight/length).  In this algorithm, it does not matter how you break ties.  You should report the sum of weighted completion times of the resulting schedule --- a positive integer --- in the box below. "
   ]
  },
  {
   "cell_type": "code",
   "execution_count": 4,
   "id": "a20f5491",
   "metadata": {},
   "outputs": [
    {
     "data": {
      "text/plain": [
       "[[99, 1],\n",
       " [98, 1],\n",
       " [95, 1],\n",
       " [95, 1],\n",
       " [93, 1],\n",
       " [93, 1],\n",
       " [92, 1],\n",
       " [88, 1],\n",
       " [87, 1],\n",
       " [86, 1]]"
      ]
     },
     "execution_count": 4,
     "metadata": {},
     "output_type": "execute_result"
    }
   ],
   "source": [
    "data1sort2 = sorted(data1,key=lambda x:(float(x[0])/float(x[1]),int(x[0])),reverse=True)\n",
    "data1sort2 = [[int(i[0]),int(i[1])] for i in data1sort2]\n",
    "data1sort2[0:10]"
   ]
  },
  {
   "cell_type": "code",
   "execution_count": 5,
   "id": "51ea1dc0",
   "metadata": {},
   "outputs": [
    {
     "name": "stdout",
     "output_type": "stream",
     "text": [
      "Part2 result: 67311454237\n"
     ]
    }
   ],
   "source": [
    "res = 0\n",
    "curr_time = 0\n",
    "for i in data1sort2:\n",
    "    curr_time += i[1]\n",
    "    res += i[0] * curr_time\n",
    "print(\"Part2 result: \" + str(res))"
   ]
  },
  {
   "cell_type": "markdown",
   "id": "0e57212c",
   "metadata": {},
   "source": [
    "## Part 3\n",
    "\n",
    "In this programming problem you'll code up Prim's minimum spanning tree algorithm.\n",
    "\n",
    "Download the text file below.\n",
    "\n",
    "(See C3W1_edges.txt)\n",
    "\n",
    "This file describes an undirected graph with integer edge costs.  It has the format\n",
    "\n",
    "[number_of_nodes] [number_of_edges]\n",
    "\n",
    "[one_node_of_edge_1] [other_node_of_edge_1] [edge_1_cost]\n",
    "\n",
    "[one_node_of_edge_2] [other_node_of_edge_2] [edge_2_cost]\n",
    "\n",
    "...\n",
    "\n",
    "For example, the third line of the file is \"2 3 -8874\", indicating that there is an edge connecting vertex #2 and vertex #3 that has cost -8874. \n",
    "\n",
    "You should NOT assume that edge costs are positive, nor should you assume that they are distinct.\n",
    "\n",
    "Your task is to run Prim's minimum spanning tree algorithm on this graph.  You should report the overall cost of a minimum spanning tree --- an integer, which may or may not be negative --- in the box below. \n",
    "\n",
    "IMPLEMENTATION NOTES: This graph is small enough that the straightforward O(mn) time implementation of Prim's algorithm should work fine. OPTIONAL: For those of you seeking an additional challenge, try implementing a heap-based version. The simpler approach, which should already give you a healthy speed-up, is to maintain relevant edges in a heap (with keys = edge costs).  The superior approach stores the unprocessed vertices in the heap, as described in lecture.  Note this requires a heap that supports deletions, and you'll probably need to maintain some kind of mapping between vertices and their positions in the heap."
   ]
  },
  {
   "cell_type": "code",
   "execution_count": 6,
   "id": "069fff9a",
   "metadata": {},
   "outputs": [
    {
     "data": {
      "text/plain": [
       "[[1, 2, 6807],\n",
       " [2, 3, -8874],\n",
       " [3, 4, -1055],\n",
       " [4, 5, 4414],\n",
       " [5, 6, 1728],\n",
       " [6, 7, -2237],\n",
       " [7, 8, -7507],\n",
       " [8, 9, 7990],\n",
       " [9, 10, -5012],\n",
       " [10, 11, 7353]]"
      ]
     },
     "execution_count": 6,
     "metadata": {},
     "output_type": "execute_result"
    }
   ],
   "source": [
    "text_file = open(\"C3W1_edges.txt\", \"r\")\n",
    "lines = text_file.readlines()\n",
    "data1_3 = [i.strip().split(\" \") for i in lines[1:]]\n",
    "data1_3 = [[int(j) for j in i] for i in data1_3]\n",
    "text_file.close()\n",
    "data1_3 += [[i[1], i[0], i[2]] for i in data1_3]\n",
    "data1_3[0:10]"
   ]
  },
  {
   "cell_type": "code",
   "execution_count": 7,
   "id": "158ba17b",
   "metadata": {},
   "outputs": [
    {
     "data": {
      "text/plain": [
       "True"
      ]
     },
     "execution_count": 7,
     "metadata": {},
     "output_type": "execute_result"
    }
   ],
   "source": [
    "set([int(i[0]) for i in data1_3]) == set(range(1,max([max(i[0:1]) for i in data1_3])+1))"
   ]
  },
  {
   "cell_type": "code",
   "execution_count": 8,
   "id": "573237b9",
   "metadata": {},
   "outputs": [
    {
     "name": "stdout",
     "output_type": "stream",
     "text": [
      "Part3 result: -3612829\n"
     ]
    }
   ],
   "source": [
    "travelled = set([1])\n",
    "notTravelled = set(range(2,max([max(i[0:1]) for i in data1_3])+1))\n",
    "cost = 0\n",
    "\n",
    "while notTravelled:\n",
    "    nextNode = sorted([i for i in data1_3 if i[0] in travelled and i[1] in notTravelled],key=lambda x:(x[2]))[0]\n",
    "    travelled.add(nextNode[1])\n",
    "    notTravelled.remove(nextNode[1])\n",
    "    \n",
    "    cost += nextNode[2]\n",
    "print(\"Part3 result: \" + str(cost))\n",
    "    "
   ]
  },
  {
   "cell_type": "code",
   "execution_count": null,
   "id": "2906cddc",
   "metadata": {},
   "outputs": [],
   "source": []
  }
 ],
 "metadata": {
  "kernelspec": {
   "display_name": "Python 3 (ipykernel)",
   "language": "python",
   "name": "python3"
  },
  "language_info": {
   "codemirror_mode": {
    "name": "ipython",
    "version": 3
   },
   "file_extension": ".py",
   "mimetype": "text/x-python",
   "name": "python",
   "nbconvert_exporter": "python",
   "pygments_lexer": "ipython3",
   "version": "3.8.10"
  }
 },
 "nbformat": 4,
 "nbformat_minor": 5
}
