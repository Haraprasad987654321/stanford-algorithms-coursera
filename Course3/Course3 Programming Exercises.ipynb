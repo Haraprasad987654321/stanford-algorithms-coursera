{
 "cells": [
  {
   "cell_type": "markdown",
   "id": "c1caeba6",
   "metadata": {},
   "source": [
    "# Programming Exercise 1\n",
    "\n",
    "## Part 1\n",
    "\n",
    "In this programming problem and the next you'll code up the greedy algorithms from lecture for minimizing the weighted sum of completion times..\n",
    "\n",
    "Download the text file below.\n",
    "\n",
    "(See C3W1_jobs.txt)\n",
    "\n",
    "This file describes a set of jobs with positive and integral weights and lengths.  It has the format\n",
    "\n",
    "[number_of_jobs]\n",
    "\n",
    "[job_1_weight] [job_1_length]\n",
    "\n",
    "[job_2_weight] [job_2_length]\n",
    "\n",
    "...\n",
    "\n",
    "For example, the third line of the file is \"74 59\", indicating that the second job has weight 74 and length 59.\n",
    "\n",
    "You should NOT assume that edge weights or lengths are distinct.\n",
    "\n",
    "Your task in this problem is to run the greedy algorithm that schedules jobs in decreasing order of the difference (weight - length).  Recall from lecture that this algorithm is not always optimal.  IMPORTANT: if two jobs have equal difference (weight - length), you should schedule the job with higher weight first.  Beware: if you break ties in a different way, you are likely to get the wrong answer.  You should report the sum of weighted completion times of the resulting schedule --- a positive integer --- in the box below. \n",
    "\n",
    "ADVICE: If you get the wrong answer, try out some small test cases to debug your algorithm (and post your test cases to the discussion forum)."
   ]
  },
  {
   "cell_type": "code",
   "execution_count": 1,
   "id": "c6d8e575",
   "metadata": {},
   "outputs": [
    {
     "data": {
      "text/plain": [
       "[['8', '50'],\n",
       " ['74', '59'],\n",
       " ['31', '73'],\n",
       " ['45', '79'],\n",
       " ['24', '10'],\n",
       " ['41', '66'],\n",
       " ['93', '43'],\n",
       " ['88', '4'],\n",
       " ['28', '30'],\n",
       " ['41', '13']]"
      ]
     },
     "execution_count": 1,
     "metadata": {},
     "output_type": "execute_result"
    }
   ],
   "source": [
    "text_file = open(\"C3W1_jobs.txt\", \"r\")\n",
    "lines = text_file.readlines()\n",
    "data1 = [i.strip().split(\" \") for i in lines[1:]]\n",
    "text_file.close()\n",
    "data1[0:10]"
   ]
  },
  {
   "cell_type": "code",
   "execution_count": 2,
   "id": "9bb11d68",
   "metadata": {},
   "outputs": [
    {
     "data": {
      "text/plain": [
       "[[99, 1],\n",
       " [100, 3],\n",
       " [100, 3],\n",
       " [99, 2],\n",
       " [99, 2],\n",
       " [98, 1],\n",
       " [98, 2],\n",
       " [98, 2],\n",
       " [98, 2],\n",
       " [99, 4]]"
      ]
     },
     "execution_count": 2,
     "metadata": {},
     "output_type": "execute_result"
    }
   ],
   "source": [
    "data1sort = sorted(data1,key=lambda x:(int(x[0]) - int(x[1]),int(x[0])),reverse=True)\n",
    "data1sort = [[int(i[0]),int(i[1])] for i in data1sort]\n",
    "data1sort[0:10]"
   ]
  },
  {
   "cell_type": "code",
   "execution_count": 3,
   "id": "8285fe68",
   "metadata": {},
   "outputs": [
    {
     "name": "stdout",
     "output_type": "stream",
     "text": [
      "Part1 result: 69119377652\n"
     ]
    }
   ],
   "source": [
    "res = 0\n",
    "curr_time = 0\n",
    "for i in data1sort:\n",
    "    curr_time += i[1]\n",
    "    res += i[0] * curr_time\n",
    "print(\"Part1 result: \" + str(res))"
   ]
  },
  {
   "cell_type": "markdown",
   "id": "38d93e1c",
   "metadata": {},
   "source": [
    "## Part 2\n",
    "\n",
    "For this problem, use the same data set as in the previous problem.\n",
    "\n",
    "Your task now is to run the greedy algorithm that schedules jobs (optimally) in decreasing order of the ratio (weight/length).  In this algorithm, it does not matter how you break ties.  You should report the sum of weighted completion times of the resulting schedule --- a positive integer --- in the box below. "
   ]
  },
  {
   "cell_type": "code",
   "execution_count": 4,
   "id": "a20f5491",
   "metadata": {},
   "outputs": [
    {
     "data": {
      "text/plain": [
       "[[99, 1],\n",
       " [98, 1],\n",
       " [95, 1],\n",
       " [95, 1],\n",
       " [93, 1],\n",
       " [93, 1],\n",
       " [92, 1],\n",
       " [88, 1],\n",
       " [87, 1],\n",
       " [86, 1]]"
      ]
     },
     "execution_count": 4,
     "metadata": {},
     "output_type": "execute_result"
    }
   ],
   "source": [
    "data1sort2 = sorted(data1,key=lambda x:(float(x[0])/float(x[1]),int(x[0])),reverse=True)\n",
    "data1sort2 = [[int(i[0]),int(i[1])] for i in data1sort2]\n",
    "data1sort2[0:10]"
   ]
  },
  {
   "cell_type": "code",
   "execution_count": 5,
   "id": "51ea1dc0",
   "metadata": {},
   "outputs": [
    {
     "name": "stdout",
     "output_type": "stream",
     "text": [
      "Part2 result: 67311454237\n"
     ]
    }
   ],
   "source": [
    "res = 0\n",
    "curr_time = 0\n",
    "for i in data1sort2:\n",
    "    curr_time += i[1]\n",
    "    res += i[0] * curr_time\n",
    "print(\"Part2 result: \" + str(res))"
   ]
  },
  {
   "cell_type": "markdown",
   "id": "0e57212c",
   "metadata": {},
   "source": [
    "## Part 3\n",
    "\n",
    "In this programming problem you'll code up Prim's minimum spanning tree algorithm.\n",
    "\n",
    "Download the text file below.\n",
    "\n",
    "(See C3W1_edges.txt)\n",
    "\n",
    "This file describes an undirected graph with integer edge costs.  It has the format\n",
    "\n",
    "[number_of_nodes] [number_of_edges]\n",
    "\n",
    "[one_node_of_edge_1] [other_node_of_edge_1] [edge_1_cost]\n",
    "\n",
    "[one_node_of_edge_2] [other_node_of_edge_2] [edge_2_cost]\n",
    "\n",
    "...\n",
    "\n",
    "For example, the third line of the file is \"2 3 -8874\", indicating that there is an edge connecting vertex #2 and vertex #3 that has cost -8874. \n",
    "\n",
    "You should NOT assume that edge costs are positive, nor should you assume that they are distinct.\n",
    "\n",
    "Your task is to run Prim's minimum spanning tree algorithm on this graph.  You should report the overall cost of a minimum spanning tree --- an integer, which may or may not be negative --- in the box below. \n",
    "\n",
    "IMPLEMENTATION NOTES: This graph is small enough that the straightforward O(mn) time implementation of Prim's algorithm should work fine. OPTIONAL: For those of you seeking an additional challenge, try implementing a heap-based version. The simpler approach, which should already give you a healthy speed-up, is to maintain relevant edges in a heap (with keys = edge costs).  The superior approach stores the unprocessed vertices in the heap, as described in lecture.  Note this requires a heap that supports deletions, and you'll probably need to maintain some kind of mapping between vertices and their positions in the heap."
   ]
  },
  {
   "cell_type": "code",
   "execution_count": 6,
   "id": "069fff9a",
   "metadata": {},
   "outputs": [
    {
     "data": {
      "text/plain": [
       "[[1, 2, 6807],\n",
       " [2, 3, -8874],\n",
       " [3, 4, -1055],\n",
       " [4, 5, 4414],\n",
       " [5, 6, 1728],\n",
       " [6, 7, -2237],\n",
       " [7, 8, -7507],\n",
       " [8, 9, 7990],\n",
       " [9, 10, -5012],\n",
       " [10, 11, 7353]]"
      ]
     },
     "execution_count": 6,
     "metadata": {},
     "output_type": "execute_result"
    }
   ],
   "source": [
    "text_file = open(\"C3W1_edges.txt\", \"r\")\n",
    "lines = text_file.readlines()\n",
    "data1_3 = [i.strip().split(\" \") for i in lines[1:]]\n",
    "data1_3 = [[int(j) for j in i] for i in data1_3]\n",
    "text_file.close()\n",
    "\n",
    "# flipped, because undirected graph\n",
    "data1_3 += [[i[1], i[0], i[2]] for i in data1_3]\n",
    "data1_3[0:10]"
   ]
  },
  {
   "cell_type": "code",
   "execution_count": 8,
   "id": "573237b9",
   "metadata": {},
   "outputs": [
    {
     "name": "stdout",
     "output_type": "stream",
     "text": [
      "Part3 result: -3612829\n"
     ]
    }
   ],
   "source": [
    "travelled = set([1])\n",
    "notTravelled = set(range(2,max([max(i[0:1]) for i in data1_3])+1))\n",
    "cost = 0\n",
    "\n",
    "while notTravelled:\n",
    "    nextNode = sorted([i for i in data1_3 if i[0] in travelled and i[1] in notTravelled],key=lambda x:(x[2]))[0]\n",
    "    travelled.add(nextNode[1])\n",
    "    notTravelled.remove(nextNode[1])\n",
    "    \n",
    "    cost += nextNode[2]\n",
    "print(\"Part3 result: \" + str(cost))\n",
    "    "
   ]
  },
  {
   "cell_type": "markdown",
   "id": "e1e0950f",
   "metadata": {},
   "source": [
    "# Programming Exercise 2\n",
    "\n",
    "## Part 1\n",
    "\n",
    "In this programming problem and the next you'll code up the clustering algorithm from lecture for computing a max-spacing kk-clustering.\n",
    "\n",
    "Download the text file below.\n",
    "\n",
    "(See C3W2_clustering1.txt)\n",
    "\n",
    "This file describes a distance function (equivalently, a complete graph with edge costs).  It has the following format:\n",
    "\n",
    "[number_of_nodes]\n",
    "\n",
    "[edge 1 node 1] [edge 1 node 2] [edge 1 cost]\n",
    "\n",
    "[edge 2 node 1] [edge 2 node 2] [edge 2 cost]\n",
    "\n",
    "...\n",
    "\n",
    "There is one edge (i,j) for each choice of 1 <= i < j <= n, where n is the number of nodes.\n",
    "\n",
    "For example, the third line of the file is \"1 3 5250\", indicating that the distance between nodes 1 and 3 (equivalently, the cost of the edge (1,3)) is 5250.  You can assume that distances are positive, but you should NOT assume that they are distinct.\n",
    "\n",
    "Your task in this problem is to run the clustering algorithm from lecture on this data set, where the target number k of clusters is set to 4.  What is the maximum spacing of a 4-clustering?\n",
    "\n",
    "ADVICE: If you're not getting the correct answer, try debugging your algorithm using some small test cases.  And then post them to the discussion forum!\n"
   ]
  },
  {
   "cell_type": "code",
   "execution_count": 1,
   "id": "bfab5c51",
   "metadata": {},
   "outputs": [
    {
     "data": {
      "text/plain": [
       "124750"
      ]
     },
     "execution_count": 1,
     "metadata": {},
     "output_type": "execute_result"
    }
   ],
   "source": [
    "text_file = open(\"C3W2_clustering1.txt\", \"r\")\n",
    "lines = text_file.readlines()\n",
    "data2_1 = [i.strip().split(\" \") for i in lines[1:]]\n",
    "data2_1 = [[int(j) for j in i] for i in data2_1]\n",
    "text_file.close()\n",
    "len(data2_1)"
   ]
  },
  {
   "cell_type": "code",
   "execution_count": 2,
   "id": "0360847c",
   "metadata": {},
   "outputs": [
    {
     "data": {
      "text/plain": [
       "[[1, 348, 1],\n",
       " [12, 373, 1],\n",
       " [27, 487, 1],\n",
       " [60, 175, 1],\n",
       " [79, 138, 1],\n",
       " [85, 333, 1],\n",
       " [92, 387, 1],\n",
       " [98, 112, 1],\n",
       " [130, 420, 1],\n",
       " [182, 225, 1]]"
      ]
     },
     "execution_count": 2,
     "metadata": {},
     "output_type": "execute_result"
    }
   ],
   "source": [
    "data2_1sort = sorted(data2_1,key=lambda x:(x[2]))\n",
    "data2_1sort[0:10]"
   ]
  },
  {
   "cell_type": "code",
   "execution_count": 7,
   "id": "b169172c",
   "metadata": {},
   "outputs": [
    {
     "name": "stdout",
     "output_type": "stream",
     "text": [
      "Distance between each cluster: {(102, 384): 123, (102, 414): 106, (102, 462): 107, (384, 414): 1162, (384, 462): 1641, (414, 462): 746}\n",
      "Maximum distance (Rightful Part1 Answer): 1641\n",
      "Minimum distance (Actual Part1 Answer): 106\n"
     ]
    }
   ],
   "source": [
    "# Initialize leader pointer array, and count of \n",
    "leaderarr = list(range(1+max([i[1] for i in data2_1sort])))\n",
    "countarr = [1 for i in leaderarr]\n",
    "for i in data2_1sort:\n",
    "    if len(set(leaderarr)) == 5:\n",
    "        break\n",
    "    \n",
    "    # get leader pointer of both nodes\n",
    "    leftleader = leaderarr[i[0]]\n",
    "    rightleader = leaderarr[i[1]]\n",
    "    \n",
    "    # get count of both leader\n",
    "    leftcount = countarr[leftleader]\n",
    "    rightcount = countarr[rightleader]\n",
    "    \n",
    "    # replace the leader with smaller count\n",
    "    if leftcount < rightcount:\n",
    "        countarr[leftleader] = 0\n",
    "        countarr[rightleader] += leftcount\n",
    "        for j in range(len(leaderarr)):\n",
    "            if leaderarr[j] == leftleader:\n",
    "                leaderarr[j] = rightleader\n",
    "    else:\n",
    "        countarr[rightleader] = 0\n",
    "        countarr[leftleader] += rightcount\n",
    "        for j in range(len(leaderarr)):\n",
    "            if leaderarr[j] == rightleader:\n",
    "                leaderarr[j] = leftleader\n",
    "\n",
    "# Loop through all data, track minimum of all combinations of leaders\n",
    "clusterdist = {}\n",
    "for i in data2_1:\n",
    "    leftleader = leaderarr[i[0]]\n",
    "    rightleader = leaderarr[i[1]]\n",
    "    if leftleader != rightleader:\n",
    "        key = (min(leftleader, rightleader), (max(leftleader, rightleader)))\n",
    "        if key in clusterdist.keys():\n",
    "            clusterdist[key] = min(i[2], clusterdist[key])\n",
    "        else:\n",
    "            clusterdist[key] = i[2]\n",
    "    \n",
    "print(\"Distance between each cluster: \" + str(clusterdist))\n",
    "print(\"Maximum distance (Rightful Part1 Answer): \" + str(max(clusterdist.values())))\n",
    "print(\"Minimum distance (Actual Part1 Answer): \" + str(min(clusterdist.values())))"
   ]
  },
  {
   "cell_type": "markdown",
   "id": "9d794c60",
   "metadata": {},
   "source": [
    "# Part 2\n",
    "\n",
    "In this question your task is again to run the clustering algorithm from lecture, but on a MUCH bigger graph.  So big, in fact, that the distances (i.e., edge costs) are only defined implicitly, rather than being provided as an explicit list.\n",
    "\n",
    "The data set is below.\n",
    "\n",
    "(See C3W2_clustering_big.txt)\n",
    "\n",
    "The format is:\n",
    "\n",
    "[# of nodes] [# of bits for each node's label]\n",
    "\n",
    "[first bit of node 1] ... [last bit of node 1]\n",
    "\n",
    "[first bit of node 2] ... [last bit of node 2]\n",
    "\n",
    "...\n",
    "\n",
    "For example, the third line of the file \"0 1 1 0 0 1 1 0 0 1 0 1 1 1 1 1 1 0 1 0 1 1 0 1\" denotes the 24 bits associated with node #2.\n",
    "\n",
    "The distance between two nodes u and v in this problem is defined as the Hamming distance--- the number of differing bits --- between the two nodes' labels.  For example, the Hamming distance between the 24-bit label of node #2 above and the label \"0 1 0 0 0 1 0 0 0 1 0 1 1 1 1 1 1 0 1 0 0 1 0 1\" is 3 (since they differ in the 3rd, 7th, and 21st bits).\n",
    "\n",
    "The question is: what is the largest value of k such that there is a k-clustering with spacing at least 3?  That is, how many clusters are needed to ensure that no pair of nodes with all but 2 bits in common get split into different clusters?\n",
    "\n",
    "NOTE: The graph implicitly defined by the data file is so big that you probably can't write it out explicitly, let alone sort the edges by cost.  So you will have to be a little creative to complete this part of the question.  For example, is there some way you can identify the smallest distances without explicitly looking at every pair of nodes?"
   ]
  },
  {
   "cell_type": "code",
   "execution_count": 4,
   "id": "a7774066",
   "metadata": {},
   "outputs": [
    {
     "data": {
      "text/plain": [
       "200000"
      ]
     },
     "execution_count": 4,
     "metadata": {},
     "output_type": "execute_result"
    }
   ],
   "source": [
    "text_file = open(\"C3W2_clustering_big.txt\", \"r\")\n",
    "lines = text_file.readlines()\n",
    "data2_2 = [int(i.strip().replace(\" \",\"\"), 2) for i in lines[1:]]\n",
    "text_file.close()\n",
    "len(data2_2)"
   ]
  },
  {
   "cell_type": "code",
   "execution_count": 6,
   "id": "78f61c90",
   "metadata": {},
   "outputs": [
    {
     "name": "stdout",
     "output_type": "stream",
     "text": [
      "Number of masks: 301\n",
      "Number of unions (Part2 Answer): 6118\n"
     ]
    }
   ],
   "source": [
    "import itertools\n",
    "from networkx.utils import UnionFind\n",
    "\n",
    "nodes = {}\n",
    "for node, num in enumerate(data2_2):\n",
    "    if num not in nodes:\n",
    "        nodes[num] = set()\n",
    "    nodes[num].add(node)\n",
    "    \n",
    "\n",
    "uf = UnionFind(range(len(data2_2)))\n",
    "\n",
    "# masks contain bitwise difference of =1, =2 and =0 (ie 1 bit at different positions, 2 bit at different positions and all 0.\n",
    "# Hence, len(distances) is hence 24 + 24C2 + 1 = 301\n",
    "masks = [1 << i for i in range(24)]\n",
    "masks += [(1 << ix_1) ^ (1 << ix_2) for (ix_1, ix_2) in itertools.combinations(range(24), 2)]\n",
    "masks.append(0)\n",
    "print(\"Number of masks: \" + str(len(masks)))\n",
    "\n",
    "# for every mask, do XOR on keys (ie when mask is 1, change bit)\n",
    "# If the result is also in the key set, union all combination\n",
    "for mask in masks:\n",
    "    for number in nodes.keys():\n",
    "        if (number ^ mask) in nodes:\n",
    "            for node_from in nodes[number]:\n",
    "                for node_to in nodes[number ^ mask]:\n",
    "                    uf.union(node_from, node_to)\n",
    "print(\"Number of unions (Part2 Answer): \" + str(len(list(uf.to_sets()))))"
   ]
  },
  {
   "cell_type": "markdown",
   "id": "b83108b6",
   "metadata": {},
   "source": [
    "# Programming Exercise 3\n",
    "\n",
    "## Part 1\n",
    "\n",
    "In this programming problem and the next you'll code up the greedy algorithm from the lectures on Huffman coding.\n",
    "\n",
    "Download the text file below.\n",
    "\n",
    "(See C3W3_huffman.txt)\n",
    "\n",
    "This file describes an instance of the problem. It has the following format:\n",
    "\n",
    "[number_of_symbols]\n",
    "\n",
    "[weight of symbol #1]\n",
    "\n",
    "[weight of symbol #2]\n",
    "\n",
    "...\n",
    "\n",
    "For example, the third line of the file is \"6852892,\" indicating that the weight of the second symbol of the alphabet is 6852892.  (We're using weights instead of frequencies, like in the \"A More Complex Example\" video.)\n",
    "\n",
    "Your task in this problem is to run the Huffman coding algorithm from lecture on this data set. What is the maximum length of a codeword in the resulting Huffman code?\n",
    "\n",
    "ADVICE: If you're not getting the correct answer, try debugging your algorithm using some small test cases. And then post them to the discussion forum!"
   ]
  },
  {
   "cell_type": "code",
   "execution_count": 1,
   "id": "4a8e34cb",
   "metadata": {},
   "outputs": [
    {
     "data": {
      "text/plain": [
       "1001"
      ]
     },
     "execution_count": 1,
     "metadata": {},
     "output_type": "execute_result"
    }
   ],
   "source": [
    "text_file = open(\"C3W3_huffman.txt\", \"r\")\n",
    "lines = text_file.readlines()\n",
    "data3_1 = [i.strip().replace(\" \",\"\") for i in lines[0:]]\n",
    "text_file.close()\n",
    "len(data3_1)"
   ]
  },
  {
   "cell_type": "code",
   "execution_count": 2,
   "id": "f74dcacc",
   "metadata": {},
   "outputs": [
    {
     "data": {
      "text/plain": [
       "[['1', 7540662],\n",
       " ['2', 6852892],\n",
       " ['3', 3235725],\n",
       " ['4', 8045172],\n",
       " ['5', 2667794],\n",
       " ['6', 2595511],\n",
       " ['7', 7030103],\n",
       " ['8', 5882478],\n",
       " ['9', 2731795],\n",
       " ['10', 8630567]]"
      ]
     },
     "execution_count": 2,
     "metadata": {},
     "output_type": "execute_result"
    }
   ],
   "source": [
    "data3_1 = [[str(i[0]), int(i[1])] for i in list(enumerate(data3_1))[1:]]\n",
    "data3_1[0:10]"
   ]
  },
  {
   "cell_type": "code",
   "execution_count": 3,
   "id": "7daa119a",
   "metadata": {},
   "outputs": [],
   "source": [
    "# Define binary tree class\n",
    "class Node:\n",
    "    def __init__(self, label, weight, left = None, right = None):\n",
    "        self.left = left\n",
    "        self.right = right\n",
    "        self.label = label\n",
    "        self.weight = weight\n",
    "\n",
    "# Define all characters as leaf nodes\n",
    "nodes = [Node(label=i[0], weight=i[1]) for i in data3_1]\n",
    "\n",
    "# Get top 2 nodes with lowest weight. Make a new node out of them. Pop both and insert new node\n",
    "while len(nodes) > 1:\n",
    "    nodes = sorted([i for i in nodes],key=lambda x:(x.weight))\n",
    "    newnode = Node(label=\"(\"+nodes[0].label+\",\"+nodes[1].label+\")\",weight=nodes[0].weight+nodes[1].weight, left=nodes[0], right=nodes[1])\n",
    "    del nodes[0:2]\n",
    "    nodes.append(newnode)\n",
    "bintree = nodes[0]"
   ]
  },
  {
   "cell_type": "code",
   "execution_count": 4,
   "id": "fab427fa",
   "metadata": {},
   "outputs": [
    {
     "name": "stdout",
     "output_type": "stream",
     "text": [
      "Maximum encoding: 19\n"
     ]
    }
   ],
   "source": [
    "# Perform DFS to get the deepest leaf level\n",
    "def maxDFS(tree):\n",
    "    if tree.left == None and tree.right == None:\n",
    "        return 0\n",
    "    leftres = 0\n",
    "    rightres = 0\n",
    "    if tree.left != None:\n",
    "        leftres = maxDFS(tree.left)\n",
    "    if tree.right != None:\n",
    "        rightres = maxDFS(tree.right)\n",
    "    return max(leftres, rightres) + 1\n",
    "\n",
    "print(\"Maximum encoding: \"+ str(maxDFS(bintree)))\n",
    "        "
   ]
  },
  {
   "cell_type": "markdown",
   "id": "3c0bb2a5",
   "metadata": {},
   "source": [
    "## Part 2\n",
    "\n",
    "Continuing the previous problem, what is the minimum length of a codeword in your Huffman code?"
   ]
  },
  {
   "cell_type": "code",
   "execution_count": 5,
   "id": "7dffd28f",
   "metadata": {},
   "outputs": [
    {
     "name": "stdout",
     "output_type": "stream",
     "text": [
      "Minimum encoding: 9\n"
     ]
    }
   ],
   "source": [
    "# Perform DFS to get the deepest leaf level\n",
    "def minDFS(tree):\n",
    "    if tree.left == None and tree.right == None:\n",
    "        return 0\n",
    "    leftres = 10000\n",
    "    rightres = 10000\n",
    "    if tree.left != None:\n",
    "        leftres = minDFS(tree.left)\n",
    "    if tree.right != None:\n",
    "        rightres = minDFS(tree.right)\n",
    "    return min(leftres, rightres) + 1\n",
    "\n",
    "print(\"Minimum encoding: \"+ str(minDFS(bintree)))"
   ]
  },
  {
   "cell_type": "markdown",
   "id": "18aeb3c9",
   "metadata": {},
   "source": [
    "## Part 3\n",
    "\n",
    "In this programming problem you'll code up the dynamic programming algorithm for computing a maximum-weight independent set of a path graph. \n",
    "\n",
    "Download the text file below.\n",
    "\n",
    "(See C3W3_mwis.txt)\n",
    "\n",
    "This file describes the weights of the vertices in a path graph (with the weights listed in the order in which vertices appear in the path). It has the following format:\n",
    "\n",
    "[number_of_vertices]\n",
    "\n",
    "[weight of first vertex]\n",
    "\n",
    "[weight of second vertex]\n",
    "\n",
    "...\n",
    "\n",
    "For example, the third line of the file is \"6395702,\" indicating that the weight of the second vertex of the graph is 6395702. \n",
    "\n",
    "Your task in this problem is to run the dynamic programming algorithm (and the reconstruction procedure) from lecture on this data set.  The question is: of the vertices 1, 2, 3, 4, 17, 117, 517, and 997, which ones belong to the maximum-weight independent set?  (By \"vertex 1\" we mean the first vertex of the graph---there is no vertex 0.)   In the box below, enter a 8-bit string, where the ith bit should be 1 if the ith of these 8 vertices is in the maximum-weight independent set, and 0 otherwise. For example, if you think that the vertices 1, 4, 17, and 517 are in the maximum-weight independent set and the other four vertices are not, then you should enter the string 10011010 in the box below."
   ]
  },
  {
   "cell_type": "code",
   "execution_count": 6,
   "id": "9c07e454",
   "metadata": {},
   "outputs": [
    {
     "data": {
      "text/plain": [
       "1001"
      ]
     },
     "execution_count": 6,
     "metadata": {},
     "output_type": "execute_result"
    }
   ],
   "source": [
    "text_file = open(\"C3W3_mwis.txt\", \"r\")\n",
    "lines = text_file.readlines()\n",
    "data3_3 = [i.strip().replace(\" \",\"\") for i in lines[0:]]\n",
    "text_file.close()\n",
    "len(data3_3)"
   ]
  },
  {
   "cell_type": "code",
   "execution_count": 7,
   "id": "04e3fbdb",
   "metadata": {},
   "outputs": [
    {
     "data": {
      "text/plain": [
       "[['1', 4962786],\n",
       " ['2', 6395702],\n",
       " ['3', 5601590],\n",
       " ['4', 3803402],\n",
       " ['5', 6784626],\n",
       " ['6', 4944482],\n",
       " ['7', 2882725],\n",
       " ['8', 9310662],\n",
       " ['9', 5247184],\n",
       " ['10', 9819854]]"
      ]
     },
     "execution_count": 7,
     "metadata": {},
     "output_type": "execute_result"
    }
   ],
   "source": [
    "data3_3 = [[str(i[0]), int(i[1])] for i in list(enumerate(data3_3))[1:]]\n",
    "data3_3[0:10]"
   ]
  },
  {
   "cell_type": "code",
   "execution_count": 14,
   "id": "1ec290a3",
   "metadata": {},
   "outputs": [],
   "source": [
    "A = {}\n",
    "A[-1] = 0\n",
    "A[0] = 0\n",
    "A[1] = data3_3[0][1]\n",
    "for i in range(2, len(data3_3)):\n",
    "    A[i] = max(A[i-1], A[i-2] + data3_3[i-1][1])"
   ]
  },
  {
   "cell_type": "code",
   "execution_count": 16,
   "id": "f7e935ab",
   "metadata": {},
   "outputs": [
    {
     "name": "stdout",
     "output_type": "stream",
     "text": [
      "Included indexes: {1, 3, 5, 8, 10, 13, 15, 18, 20, 22, 24, 26, 28, 31, 33, 36, 38, 40, 42, 44, 46, 48, 50, 52, 54, 56, 58, 60, 62, 64, 66, 69, 72, 75, 77, 79, 81, 83, 85, 88, 90, 92, 94, 96, 98, 100, 103, 106, 108, 110, 112, 115, 117, 120, 122, 124, 126, 128, 131, 133, 136, 139, 141, 143, 145, 147, 149, 151, 153, 155, 157, 160, 162, 164, 166, 168, 170, 173, 175, 177, 179, 181, 183, 185, 187, 190, 193, 195, 197, 199, 201, 203, 205, 207, 209, 211, 214, 216, 218, 221, 223, 226, 228, 230, 232, 234, 236, 238, 240, 243, 245, 247, 249, 252, 254, 256, 258, 261, 263, 265, 267, 269, 271, 273, 275, 277, 279, 281, 283, 285, 287, 289, 292, 294, 296, 298, 300, 302, 304, 306, 308, 310, 312, 314, 316, 318, 321, 323, 325, 327, 329, 331, 333, 335, 337, 339, 341, 343, 345, 347, 349, 351, 353, 355, 357, 359, 361, 363, 365, 367, 369, 371, 373, 375, 377, 379, 381, 383, 385, 387, 389, 391, 393, 395, 397, 399, 402, 404, 406, 408, 410, 413, 415, 417, 420, 422, 425, 427, 429, 431, 433, 435, 437, 439, 441, 443, 445, 447, 449, 451, 454, 456, 458, 460, 462, 464, 466, 468, 470, 472, 474, 476, 478, 481, 483, 485, 488, 490, 492, 494, 496, 498, 500, 503, 505, 508, 510, 512, 514, 517, 519, 521, 523, 525, 527, 529, 531, 534, 537, 539, 541, 543, 545, 548, 550, 552, 554, 556, 558, 560, 563, 566, 569, 571, 573, 575, 577, 579, 581, 584, 586, 588, 590, 592, 594, 596, 598, 600, 602, 604, 606, 608, 610, 613, 615, 617, 619, 621, 623, 625, 628, 630, 632, 634, 637, 639, 641, 643, 645, 647, 649, 652, 654, 656, 658, 660, 662, 664, 666, 669, 671, 673, 676, 679, 682, 684, 686, 688, 690, 692, 695, 697, 699, 702, 704, 706, 708, 710, 713, 715, 717, 719, 721, 723, 726, 728, 730, 733, 735, 737, 739, 741, 743, 745, 748, 750, 752, 755, 757, 760, 763, 766, 768, 770, 772, 774, 776, 778, 781, 784, 786, 788, 790, 793, 795, 797, 799, 801, 803, 806, 809, 812, 814, 816, 819, 821, 823, 825, 827, 829, 832, 834, 837, 839, 841, 843, 846, 849, 851, 853, 855, 857, 859, 861, 864, 866, 868, 871, 873, 876, 878, 880, 882, 884, 886, 888, 890, 892, 894, 896, 898, 900, 903, 905, 907, 909, 911, 913, 915, 917, 919, 921, 924, 927, 929, 932, 934, 936, 938, 940, 942, 944, 946, 948, 950, 952, 954, 956, 958, 960, 962, 964, 966, 969, 971, 973, 975, 977, 979, 981, 983, 985, 987, 989, 991, 993, 995, 998, 1000}\n"
     ]
    }
   ],
   "source": [
    "S = set()\n",
    "position = len(data3_3)\n",
    "while position >= 1:\n",
    "    if A[position - 1] >= (A[position - 2] + data3_3[position-1][1]):\n",
    "        position = position - 1\n",
    "    else:\n",
    "        S.add(position)\n",
    "        position = position - 2\n",
    "print(\"Included indexes: \" + str(S))"
   ]
  },
  {
   "cell_type": "code",
   "execution_count": 17,
   "id": "672934b7",
   "metadata": {},
   "outputs": [
    {
     "name": "stdout",
     "output_type": "stream",
     "text": [
      "Part 3 result: 10100110\n"
     ]
    }
   ],
   "source": [
    "res = [int(i in S) for i in [1,2,3,4,17,117,517,997]]\n",
    "print(\"Part 3 result: \" + \"\".join([str(i) for i in res]))"
   ]
  },
  {
   "cell_type": "code",
   "execution_count": null,
   "id": "057901e4",
   "metadata": {},
   "outputs": [],
   "source": []
  }
 ],
 "metadata": {
  "kernelspec": {
   "display_name": "Python 3 (ipykernel)",
   "language": "python",
   "name": "python3"
  },
  "language_info": {
   "codemirror_mode": {
    "name": "ipython",
    "version": 3
   },
   "file_extension": ".py",
   "mimetype": "text/x-python",
   "name": "python",
   "nbconvert_exporter": "python",
   "pygments_lexer": "ipython3",
   "version": "3.8.10"
  }
 },
 "nbformat": 4,
 "nbformat_minor": 5
}
