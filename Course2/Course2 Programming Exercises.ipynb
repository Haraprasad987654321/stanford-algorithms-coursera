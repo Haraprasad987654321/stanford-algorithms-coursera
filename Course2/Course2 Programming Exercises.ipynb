{
 "cells": [
  {
   "cell_type": "markdown",
   "id": "319a5a1f",
   "metadata": {},
   "source": [
    "# Programming Exercise 1\n",
    "\n",
    "(See C2W1_scc.txt)\n",
    "\n",
    "The file contains the edges of a directed graph. Vertices are labeled as positive integers from 1 to 875714. Every row indicates an edge, the vertex label in first column is the tail and the vertex label in second column is the head (recall the graph is directed, and the edges are directed from the first column vertex to the second column vertex). So for example, the 11^{th} row looks liks : \"2 47646\". This just means that the vertex with label 2 has an outgoing edge to the vertex with label 47646\n",
    "\n",
    "Your task is to code up the algorithm from the video lectures for computing strongly connected components (SCCs), and to run this algorithm on the given graph.\n",
    "\n",
    "Output Format: You should output the sizes of the 5 largest SCCs in the given graph, in decreasing order of sizes, separated by commas (avoid any spaces). So if your algorithm computes the sizes of the five largest SCCs to be 500, 400, 300, 200 and 100, then your answer should be \"500,400,300,200,100\" (without the quotes). If your algorithm finds less than 5 SCCs, then write 0 for the remaining terms. Thus, if your algorithm computes only 3 SCCs whose sizes are 400, 300, and 100, then your answer should be \"400,300,100,0,0\" (without the quotes).  (Note also that your answer should not have any spaces in it.)\n",
    "\n",
    "WARNING: This is the most challenging programming assignment of the course. Because of the size of the graph you may have to manage memory carefully. The best way to do this depends on your programming language and environment, and we strongly suggest that you exchange tips for doing this on the discussion forums."
   ]
  },
  {
   "cell_type": "code",
   "execution_count": 16,
   "id": "310395b7",
   "metadata": {
    "scrolled": true
   },
   "outputs": [
    {
     "data": {
      "text/plain": [
       "5105043"
      ]
     },
     "execution_count": 16,
     "metadata": {},
     "output_type": "execute_result"
    }
   ],
   "source": [
    "text_file = open(\"C2W1_scc.txt\", \"r\")\n",
    "lines = text_file.readlines()\n",
    "data1 = [i.strip().split(\" \") for i in lines]\n",
    "text_file.close()\n",
    "len(data1)"
   ]
  },
  {
   "cell_type": "code",
   "execution_count": 11,
   "id": "14eb5083",
   "metadata": {},
   "outputs": [
    {
     "data": {
      "text/plain": [
       "14"
      ]
     },
     "execution_count": 11,
     "metadata": {},
     "output_type": "execute_result"
    }
   ],
   "source": [
    "text_file = open(\"sample.txt\", \"r\")\n",
    "lines = text_file.readlines()\n",
    "data1 = [i.strip().split(\" \") for i in lines]\n",
    "text_file.close()\n",
    "len(data1)"
   ]
  },
  {
   "cell_type": "code",
   "execution_count": 17,
   "id": "3e016711",
   "metadata": {},
   "outputs": [],
   "source": [
    "graph = {}\n",
    "graphrev = {}\n",
    "for i in data1:\n",
    "    if not (i[0] in graph):\n",
    "        graph[i[0]] = []\n",
    "    graph[i[0]].append(i[1])\n",
    "    \n",
    "    if not (i[1] in graphrev):\n",
    "        graphrev[i[1]] = []\n",
    "    graphrev[i[1]].append(i[0])"
   ]
  },
  {
   "cell_type": "code",
   "execution_count": 3,
   "id": "a172145c",
   "metadata": {},
   "outputs": [],
   "source": [
    "import threading\n",
    "import sys\n"
   ]
  },
  {
   "cell_type": "code",
   "execution_count": 4,
   "id": "0edecffb",
   "metadata": {},
   "outputs": [],
   "source": [
    "# Kosaraju's 2 Pass Algorithm\n",
    "\n",
    "def generateFinishingTime(G, Grev, n):\n",
    "    finishing = [None for i in range(n)]\n",
    "    curr_cnt = 1\n",
    "    \n",
    "    # First pass using reversed graph. The \"sink\" of this graph would identify the first node to check in second pass\n",
    "    for i in range(n, 0, -1):\n",
    "        finishing, curr_cnt = DFSrev(i, curr_cnt, Grev, finishing)\n",
    "    \n",
    "    # Second pass using normal graph. High finishing time is prioritized in identifying SCC.\n",
    "    travelled = [False for i in range(n)]\n",
    "    all_res = [0,0,0,0,0]\n",
    "    for i in range(n, 0, -1):\n",
    "        if travelled[finishing.index(i)] == False:\n",
    "            travelled, res = DFS(finishing.index(i)+1, 0, G, travelled)\n",
    "            # Track top 5 results\n",
    "            if res > min(all_res):\n",
    "                all_res.pop()\n",
    "                all_res.append(res)\n",
    "                all_res.sort(reverse=True)\n",
    "                print(all_res)\n",
    "    print(all_res)\n",
    "    return all_res\n",
    "\n",
    "def DFSrev(i, curr_cnt, Grev, finishing):\n",
    "    # Placeholder value. Will write after every children node has been travelled\n",
    "    finishing[i-1] = -1\n",
    "    \n",
    "    # Recursively call children nodes\n",
    "    if str(i) in Grev:\n",
    "        for j in Grev[str(i)]:\n",
    "            if finishing[int(j)-1] == None:\n",
    "                finishing, curr_cnt = DFSrev(int(j), curr_cnt, Grev, finishing)\n",
    "    finishing[i-1] = curr_cnt\n",
    "    curr_cnt += 1\n",
    "    return finishing, curr_cnt\n",
    "\n",
    "def DFS(i, curr_cnt, G, travelled):\n",
    "    travelled[i-1] = True\n",
    "    \n",
    "    # Recursively call children nodes\n",
    "    if str(i) in G:\n",
    "        for j in G[str(i)]:\n",
    "            if travelled[int(j)-1] == False:\n",
    "                travelled, curr_cnt = DFS(int(j), curr_cnt, G, travelled)\n",
    "    curr_cnt += 1\n",
    "    return travelled, curr_cnt\n"
   ]
  },
  {
   "cell_type": "code",
   "execution_count": 14,
   "id": "a8e4e6cc",
   "metadata": {},
   "outputs": [],
   "source": [
    "sample = [['1','4'],['2','8'],['3','6'],['4','7'],['5','2'],['6','9'],['7','1'],['8','5'],['8','6'],['9','7'],['9','3']]\n",
    "sgraph = {}\n",
    "sgraphrev = {}\n",
    "for i in sample:\n",
    "    if not (i[0] in sgraph):\n",
    "        sgraph[i[0]] = []\n",
    "    sgraph[i[0]].append(i[1])\n",
    "    \n",
    "    if not (i[1] in sgraphrev):\n",
    "        sgraphrev[i[1]] = []\n",
    "    sgraphrev[i[1]].append(i[0])"
   ]
  },
  {
   "cell_type": "code",
   "execution_count": 15,
   "id": "a2a6e004",
   "metadata": {},
   "outputs": [
    {
     "name": "stdout",
     "output_type": "stream",
     "text": [
      "[3, 0, 0, 0, 0]\n",
      "[3, 3, 0, 0, 0]\n",
      "[3, 3, 3, 0, 0]\n",
      "[3, 3, 3, 0, 0]\n"
     ]
    },
    {
     "data": {
      "text/plain": [
       "[3, 3, 3, 0, 0]"
      ]
     },
     "execution_count": 15,
     "metadata": {},
     "output_type": "execute_result"
    }
   ],
   "source": [
    "generateFinishingTime(sgraph, sgraphrev, 9)"
   ]
  },
  {
   "cell_type": "code",
   "execution_count": 18,
   "id": "7c5a49b1",
   "metadata": {},
   "outputs": [
    {
     "name": "stdout",
     "output_type": "stream",
     "text": [
      "[1, 0, 0, 0, 0]\n",
      "[1, 1, 0, 0, 0]\n",
      "[1, 1, 1, 0, 0]\n",
      "[1, 1, 1, 1, 0]\n",
      "[1, 1, 1, 1, 1]\n",
      "[16, 1, 1, 1, 1]\n",
      "[16, 3, 1, 1, 1]\n",
      "[16, 4, 3, 1, 1]\n",
      "[16, 6, 4, 3, 1]\n",
      "[16, 10, 6, 4, 3]\n",
      "[16, 10, 6, 5, 4]\n",
      "[18, 16, 10, 6, 5]\n",
      "[18, 16, 14, 10, 6]\n",
      "[18, 16, 14, 11, 10]\n",
      "[18, 16, 15, 14, 11]\n",
      "[20, 18, 16, 15, 14]\n",
      "[21, 20, 18, 16, 15]\n",
      "[38, 21, 20, 18, 16]\n",
      "[38, 21, 20, 20, 18]\n",
      "[69, 38, 21, 20, 20]\n",
      "[69, 54, 38, 21, 20]\n",
      "[101, 69, 54, 38, 21]\n",
      "[101, 69, 54, 43, 38]\n",
      "[101, 69, 54, 54, 43]\n",
      "[101, 69, 54, 54, 45]\n",
      "[101, 69, 54, 54, 53]\n",
      "[101, 69, 55, 54, 54]\n",
      "[101, 69, 56, 55, 54]\n",
      "[101, 69, 69, 56, 55]\n",
      "[102, 101, 69, 69, 56]\n",
      "[459, 102, 101, 69, 69]\n",
      "[459, 197, 102, 101, 69]\n",
      "[459, 197, 102, 101, 72]\n",
      "[459, 197, 102, 101, 73]\n",
      "[459, 197, 102, 101, 77]\n",
      "[459, 197, 149, 102, 101]\n",
      "[459, 211, 197, 149, 102]\n",
      "[459, 211, 197, 149, 122]\n",
      "[459, 211, 197, 152, 149]\n",
      "[459, 211, 205, 197, 152]\n",
      "[968, 459, 211, 205, 197]\n",
      "[434821, 968, 459, 211, 205]\n",
      "[434821, 968, 459, 313, 211]\n",
      "[434821, 968, 459, 313, 211]\n"
     ]
    }
   ],
   "source": [
    "threading.stack_size(67108864)\n",
    "sys.setrecursionlimit(2 ** 20)\n",
    "thread = threading.Thread(target=generateFinishingTime, args=(graph, graphrev, 875714))\n",
    "thread.start()\n",
    "thread.join()\n",
    "#Output: [434821, 968, 459, 313, 211]. Might take a while."
   ]
  },
  {
   "cell_type": "markdown",
   "id": "8324ee09",
   "metadata": {},
   "source": [
    "# Programming Exercise 2\n",
    "\n",
    "(See C2W2_scc.txt)\n",
    "\n",
    "The file contains an adjacency list representation of an undirected weighted graph with 200 vertices labeled 1 to 200.  Each row consists of the node tuples that are adjacent to that particular vertex along with the length of that edge. For example, the 6th row has 6 as the first entry indicating that this row corresponds to the vertex labeled 6. The next entry of this row \"141,8200\" indicates that there is an edge between vertex 6 and vertex 141 that has length 8200.  The rest of the pairs of this row indicate the other vertices adjacent to vertex 6 and the lengths of the corresponding edges.\n",
    "\n",
    "Your task is to run Dijkstra's shortest-path algorithm on this graph, using 1 (the first vertex) as the source vertex, and to compute the shortest-path distances between 1 and every other vertex of the graph. If there is no path between a vertex vv and vertex 1, we'll define the shortest-path distance between 1 and v to be 1000000. \n",
    "\n",
    "You should report the shortest-path distances to the following ten vertices, in order: 7,37,59,82,99,115,133,165,188,197.  You should encode the distances as a comma-separated string of integers. So if you find that all ten of these vertices except 115 are at distance 1000 away from vertex 1 and 115 is 2000 distance away, then your answer should be 1000,1000,1000,1000,1000,2000,1000,1000,1000,1000. Remember the order of reporting DOES MATTER, and the string should be in the same order in which the above ten vertices are given. The string should not contain any spaces.  Please type your answer in the space provided.\n",
    "\n",
    "IMPLEMENTATION NOTES: This graph is small enough that the straightforward O(mn)O(mn) time implementation of Dijkstra's algorithm should work fine.  OPTIONAL: For those of you seeking an additional challenge, try implementing the heap-based version.  Note this requires a heap that supports deletions, and you'll probably need to maintain some kind of mapping between vertices and their positions in the heap.\n"
   ]
  },
  {
   "cell_type": "code",
   "execution_count": 5,
   "id": "1a40c762",
   "metadata": {},
   "outputs": [
    {
     "data": {
      "text/plain": [
       "200"
      ]
     },
     "execution_count": 5,
     "metadata": {},
     "output_type": "execute_result"
    }
   ],
   "source": [
    "text_file = open(\"C2W2_dijkstraData.txt\", \"r\")\n",
    "lines = text_file.readlines()\n",
    "data2 = [i.strip().split(\"\\t\") for i in lines]\n",
    "text_file.close()\n",
    "len(data2)"
   ]
  },
  {
   "cell_type": "code",
   "execution_count": 8,
   "id": "d50a5efb",
   "metadata": {},
   "outputs": [
    {
     "data": {
      "text/plain": [
       "[('80', 982),\n",
       " ('163', 8164),\n",
       " ('170', 2620),\n",
       " ('145', 648),\n",
       " ('200', 8021),\n",
       " ('173', 2069),\n",
       " ('92', 647),\n",
       " ('26', 4122),\n",
       " ('140', 546),\n",
       " ('11', 1913),\n",
       " ('160', 6461),\n",
       " ('27', 7905),\n",
       " ('40', 9047),\n",
       " ('150', 2183),\n",
       " ('61', 9146),\n",
       " ('159', 7420),\n",
       " ('198', 1724),\n",
       " ('114', 508),\n",
       " ('104', 6647),\n",
       " ('30', 4612),\n",
       " ('99', 2367),\n",
       " ('138', 7896),\n",
       " ('169', 8700),\n",
       " ('49', 2437),\n",
       " ('125', 2909),\n",
       " ('117', 2597),\n",
       " ('55', 6399)]"
      ]
     },
     "execution_count": 8,
     "metadata": {},
     "output_type": "execute_result"
    }
   ],
   "source": [
    "graph = {i[0]:[(j.split(\",\")[0],int(j.split(\",\")[1])) for j in i[1:]] for i in data2}\n",
    "graph['1']"
   ]
  },
  {
   "cell_type": "code",
   "execution_count": 23,
   "id": "715b1d3f",
   "metadata": {},
   "outputs": [],
   "source": [
    "# Dijkstra's shortest-path algorithm. \n",
    "\n",
    "from collections import defaultdict\n",
    "import heapq as heap\n",
    "\n",
    "def dijkstra(G, startingNode):\n",
    "    visited = set()\n",
    "    parentsMap = {}\n",
    "    pq = []\n",
    "    nodeCosts = defaultdict(lambda: float('1000000'))\n",
    "    nodeCosts[startingNode] = 0\n",
    "    heap.heappush(pq, (0, startingNode))\n",
    "\n",
    "    while pq:\n",
    "        _, node = heap.heappop(pq)\n",
    "        visited.add(node)\n",
    " \n",
    "        for adjNode, weight in G[node]:\n",
    "            if adjNode in visited:\n",
    "                continue\n",
    "            newCost = nodeCosts[node] + weight\n",
    "            if nodeCosts[adjNode] > newCost:\n",
    "                parentsMap[adjNode] = node\n",
    "                nodeCosts[adjNode] = newCost\n",
    "                heap.heappush(pq, (newCost, adjNode))\n",
    "        \n",
    "    return parentsMap, nodeCosts\n",
    "\n",
    "parentsMap, nodeCosts = dijkstra(graph, \"1\")"
   ]
  },
  {
   "cell_type": "code",
   "execution_count": 24,
   "id": "e2411607",
   "metadata": {
    "scrolled": true
   },
   "outputs": [
    {
     "data": {
      "text/plain": [
       "[2599, 2610, 2947, 2052, 2367, 2399, 2029, 2442, 2505, 3068]"
      ]
     },
     "execution_count": 24,
     "metadata": {},
     "output_type": "execute_result"
    }
   ],
   "source": [
    "ind = [7,37,59,82,99,115,133,165,188,197]\n",
    "ans = [nodeCosts[str(i)] for i in ind]\n",
    "ans"
   ]
  },
  {
   "cell_type": "markdown",
   "id": "d6dbcb92",
   "metadata": {},
   "source": [
    "# Programming Exercise 3\n",
    "\n",
    "(See C2W3_Median.txt)\n",
    "\n",
    "The goal of this problem is to implement the \"Median Maintenance\" algorithm (covered in the Week 3 lecture on heap applications).  The text file contains a list of the integers from 1 to 10000 in unsorted order; you should treat this as a stream of numbers, arriving one by one.  Letting x_i denote the ith number of the file, the kth median m_k is defined as the median of the numbers x_1,...,x_k. (So, if k is odd, then m_k is ((k+1)/2)th smallest number among x_1,...,x_k; if kk is even, then m_k is the (k/2)th smallest number among x_1,...,x_k)\n",
    "\n",
    "In the box below you should type the sum of these 10000 medians, modulo 10000 (i.e., only the last 4 digits).  That is, you should compute (m_1+m_2+m_3 + ... + m_10000) mod 10000.\n",
    "\n",
    "OPTIONAL EXERCISE: Compare the performance achieved by heap-based and search-tree-based implementations of the algorithm."
   ]
  },
  {
   "cell_type": "code",
   "execution_count": 9,
   "id": "bc0bd174",
   "metadata": {},
   "outputs": [
    {
     "data": {
      "text/plain": [
       "10000"
      ]
     },
     "execution_count": 9,
     "metadata": {},
     "output_type": "execute_result"
    }
   ],
   "source": [
    "text_file = open(\"C2W3_Median.txt\", \"r\")\n",
    "lines = text_file.readlines()\n",
    "data3 = [int(i.strip()) for i in lines]\n",
    "text_file.close()\n",
    "len(data3)"
   ]
  },
  {
   "cell_type": "code",
   "execution_count": 10,
   "id": "7b018415",
   "metadata": {},
   "outputs": [],
   "source": [
    "import heapq as heap\n",
    "\n",
    "class medianHeap():    \n",
    "    def __init__(self):\n",
    "        self.leftheap = []\n",
    "        self.rightheap = []\n",
    "        self.medianlist = []\n",
    "        self.median = None\n",
    "        self.leftsize = 0\n",
    "        self.rightsize = 0\n",
    "        \n",
    "    def insert(self, k):\n",
    "        # if median is not defined yet (ie first value)\n",
    "        if self.median == None:\n",
    "            self.median = k\n",
    "        \n",
    "        # if k < existing median, put k into left heap (negative as min-heap is used)\n",
    "        elif k < self.median:\n",
    "            heap.heappush(self.leftheap, -k)\n",
    "            self.leftsize += 1\n",
    "            \n",
    "            # if size of left heap > size of right heap, \n",
    "            # put existing median to right, and pop left heap as new median\n",
    "            if self.leftsize > self.rightsize:\n",
    "                heap.heappush(self.rightheap, self.median)\n",
    "                self.median = -heap.heappop(self.leftheap)\n",
    "                self.leftsize -= 1\n",
    "                self.rightsize += 1\n",
    "        \n",
    "        # else, put k into right heap\n",
    "        else:\n",
    "            heap.heappush(self.rightheap, k)\n",
    "            self.rightsize += 1\n",
    "            \n",
    "            # if size of left heap + 1 < size of right heap, \n",
    "            # put existing median to left, and pop right heap as new median\n",
    "            # (+1 is due to median=(k/2)th element for even cases, giving it a slight bias)\n",
    "            if self.leftsize + 1 < self.rightsize:\n",
    "                heap.heappush(self.leftheap, -self.median)\n",
    "                self.median = heap.heappop(self.rightheap)\n",
    "                self.leftsize += 1\n",
    "                self.rightsize -= 1\n",
    "        self.medianlist.append(self.median)\n",
    "        return\n",
    "    "
   ]
  },
  {
   "cell_type": "code",
   "execution_count": 11,
   "id": "66af3d7c",
   "metadata": {},
   "outputs": [
    {
     "name": "stdout",
     "output_type": "stream",
     "text": [
      "Final answer: 1213\n"
     ]
    }
   ],
   "source": [
    "ds = medianHeap()\n",
    "for i in data3:\n",
    "    ds.insert(i)\n",
    "    #print(\"New: \" + str(i) + \" median: \" + str(ds.median))\n",
    "print(\"Final answer: \" + str(sum(ds.medianlist) % 10000))"
   ]
  },
  {
   "cell_type": "markdown",
   "id": "eb74f934",
   "metadata": {},
   "source": [
    "# Programming Exercise 4\n",
    "\n",
    "(See C2W4_algo1-programming_prob-2sum.txt)\n",
    "\n",
    "The goal of this problem is to implement a variant of the 2-SUM algorithm covered in this week's lectures.\n",
    "\n",
    "The file contains 1 million integers, both positive and negative (there might be some repetitions!).This is your array of integers, with the i^{th} row of the file specifying the i^{th} entry of the array.\n",
    "\n",
    "Your task is to compute the number of target values tt in the interval [-10000,10000] (inclusive) such that there are distinct numbers x,y in the input file that satisfy x+y=t. (NOTE: ensuring distinctness requires a one-line addition to the algorithm from lecture.)\n",
    "\n",
    "Write your numeric answer (an integer between 0 and 20001) in the space provided.\n",
    "\n",
    "OPTIONAL CHALLENGE: If this problem is too easy for you, try implementing your own hash table for it. For example, you could compare performance under the chaining and open addressing approaches to resolving collisions."
   ]
  },
  {
   "cell_type": "code",
   "execution_count": 1,
   "id": "96213d2e",
   "metadata": {},
   "outputs": [
    {
     "data": {
      "text/plain": [
       "1000000"
      ]
     },
     "execution_count": 1,
     "metadata": {},
     "output_type": "execute_result"
    }
   ],
   "source": [
    "text_file = open(\"C2W4_algo1-programming_prob-2sum.txt\", \"r\")\n",
    "lines = text_file.readlines()\n",
    "data4 = [int(i.strip()) for i in lines]\n",
    "text_file.close()\n",
    "len(data4)"
   ]
  },
  {
   "cell_type": "code",
   "execution_count": 2,
   "id": "c7c66b7f",
   "metadata": {},
   "outputs": [],
   "source": [
    "class check2sum:\n",
    "    def __init__(self, data):\n",
    "        self.data = sorted(data)\n",
    "    \n",
    "    def getntarget(self, mintarget, maxtarget):\n",
    "        targetset=set()\n",
    "        leftpoint=0\n",
    "        rightpoint=len(self.data)-1\n",
    "        while rightpoint > leftpoint:\n",
    "            if self.data[rightpoint] + self.data[leftpoint] < mintarget:\n",
    "                leftpoint += 1\n",
    "            elif self.data[rightpoint] + self.data[leftpoint] > maxtarget:\n",
    "                rightpoint -= 1\n",
    "            else:\n",
    "                temp = rightpoint\n",
    "                while self.data[rightpoint] + self.data[leftpoint] > mintarget:\n",
    "                    targetset.add(self.data[rightpoint] + self.data[leftpoint])\n",
    "                    rightpoint -= 1\n",
    "                rightpoint = temp\n",
    "                leftpoint += 1\n",
    "        \n",
    "        return len(targetset)"
   ]
  },
  {
   "cell_type": "code",
   "execution_count": 3,
   "id": "e9ffa588",
   "metadata": {},
   "outputs": [
    {
     "data": {
      "text/plain": [
       "427"
      ]
     },
     "execution_count": 3,
     "metadata": {},
     "output_type": "execute_result"
    }
   ],
   "source": [
    "res = check2sum(data4)\n",
    "res.getntarget(-10000, 10000)"
   ]
  },
  {
   "cell_type": "code",
   "execution_count": null,
   "id": "6de1b9c9",
   "metadata": {},
   "outputs": [],
   "source": []
  }
 ],
 "metadata": {
  "kernelspec": {
   "display_name": "Python 3 (ipykernel)",
   "language": "python",
   "name": "python3"
  },
  "language_info": {
   "codemirror_mode": {
    "name": "ipython",
    "version": 3
   },
   "file_extension": ".py",
   "mimetype": "text/x-python",
   "name": "python",
   "nbconvert_exporter": "python",
   "pygments_lexer": "ipython3",
   "version": "3.8.10"
  }
 },
 "nbformat": 4,
 "nbformat_minor": 5
}
