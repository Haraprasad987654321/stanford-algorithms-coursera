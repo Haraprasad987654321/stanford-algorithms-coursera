{
 "cells": [
  {
   "cell_type": "code",
   "execution_count": null,
   "id": "527d09b5",
   "metadata": {},
   "outputs": [],
   "source": [
    "# Right answer: 1203406"
   ]
  },
  {
   "cell_type": "markdown",
   "id": "40d3c262",
   "metadata": {},
   "source": [
    "# Programming Exercise 4"
   ]
  },
  {
   "cell_type": "markdown",
   "id": "70dfb719",
   "metadata": {},
   "source": [
    "https://github.com/iammohitsakhuja/stanford-algorithms-specialization/tree/master/part-4/week-4/2sat"
   ]
  },
  {
   "cell_type": "code",
   "execution_count": null,
   "id": "39cee6c9",
   "metadata": {},
   "outputs": [],
   "source": [
    "# Right answer: 101100"
   ]
  },
  {
   "cell_type": "code",
   "execution_count": null,
   "id": "bb14bb2b",
   "metadata": {},
   "outputs": [],
   "source": []
  }
 ],
 "metadata": {
  "kernelspec": {
   "display_name": "Python 3 (ipykernel)",
   "language": "python",
   "name": "python3"
  },
  "language_info": {
   "codemirror_mode": {
    "name": "ipython",
    "version": 3
   },
   "file_extension": ".py",
   "mimetype": "text/x-python",
   "name": "python",
   "nbconvert_exporter": "python",
   "pygments_lexer": "ipython3",
   "version": "3.8.10"
  }
 },
 "nbformat": 4,
 "nbformat_minor": 5
}
